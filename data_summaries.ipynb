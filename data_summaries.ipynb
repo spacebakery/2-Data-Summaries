{
 "cells": [
  {
   "cell_type": "code",
   "execution_count": 1,
   "id": "initial_id",
   "metadata": {
    "collapsed": true,
    "ExecuteTime": {
     "end_time": "2024-01-12T18:49:36.058795Z",
     "start_time": "2024-01-12T18:49:36.057360Z"
    }
   },
   "outputs": [],
   "source": [
    "import pandas as pd\n",
    "import numpy as np\n",
    "from scipy import stats\n",
    "import seaborn as sns\n",
    "from matplotlib import pyplot as plt"
   ]
  },
  {
   "cell_type": "code",
   "execution_count": 2,
   "outputs": [],
   "source": [
    "movies = pd.read_csv('movies.csv')"
   ],
   "metadata": {
    "collapsed": false,
    "ExecuteTime": {
     "end_time": "2024-01-12T18:49:36.203980Z",
     "start_time": "2024-01-12T18:49:36.061016Z"
    }
   },
   "id": "c50fe81d2c960a19"
  },
  {
   "cell_type": "code",
   "execution_count": 3,
   "outputs": [
    {
     "data": {
      "text/plain": "                              movie  production_budget  domestic_gross  \\\n0                     Evan Almighty        175000000.0     100289690.0   \n1                        Waterworld        175000000.0      88246220.0   \n2  King Arthur: Legend of the Sword        175000000.0      39175066.0   \n3                          47 Ronin        175000000.0      38362475.0   \n4    Jurassic World: Fallen Kingdom        170000000.0     416769345.0   \n\n   worldwide_gross mpaa_rating      genre  \n0     1.741313e+08          PG     Comedy  \n1     2.642462e+08       PG-13     Action  \n2     1.399507e+08       PG-13  Adventure  \n3     1.517168e+08       PG-13     Action  \n4     1.304866e+09       PG-13     Action  ",
      "text/html": "<div>\n<style scoped>\n    .dataframe tbody tr th:only-of-type {\n        vertical-align: middle;\n    }\n\n    .dataframe tbody tr th {\n        vertical-align: top;\n    }\n\n    .dataframe thead th {\n        text-align: right;\n    }\n</style>\n<table border=\"1\" class=\"dataframe\">\n  <thead>\n    <tr style=\"text-align: right;\">\n      <th></th>\n      <th>movie</th>\n      <th>production_budget</th>\n      <th>domestic_gross</th>\n      <th>worldwide_gross</th>\n      <th>mpaa_rating</th>\n      <th>genre</th>\n    </tr>\n  </thead>\n  <tbody>\n    <tr>\n      <th>0</th>\n      <td>Evan Almighty</td>\n      <td>175000000.0</td>\n      <td>100289690.0</td>\n      <td>1.741313e+08</td>\n      <td>PG</td>\n      <td>Comedy</td>\n    </tr>\n    <tr>\n      <th>1</th>\n      <td>Waterworld</td>\n      <td>175000000.0</td>\n      <td>88246220.0</td>\n      <td>2.642462e+08</td>\n      <td>PG-13</td>\n      <td>Action</td>\n    </tr>\n    <tr>\n      <th>2</th>\n      <td>King Arthur: Legend of the Sword</td>\n      <td>175000000.0</td>\n      <td>39175066.0</td>\n      <td>1.399507e+08</td>\n      <td>PG-13</td>\n      <td>Adventure</td>\n    </tr>\n    <tr>\n      <th>3</th>\n      <td>47 Ronin</td>\n      <td>175000000.0</td>\n      <td>38362475.0</td>\n      <td>1.517168e+08</td>\n      <td>PG-13</td>\n      <td>Action</td>\n    </tr>\n    <tr>\n      <th>4</th>\n      <td>Jurassic World: Fallen Kingdom</td>\n      <td>170000000.0</td>\n      <td>416769345.0</td>\n      <td>1.304866e+09</td>\n      <td>PG-13</td>\n      <td>Action</td>\n    </tr>\n  </tbody>\n</table>\n</div>"
     },
     "execution_count": 3,
     "metadata": {},
     "output_type": "execute_result"
    }
   ],
   "source": [
    "# inspect data\n",
    "movies.head()"
   ],
   "metadata": {
    "collapsed": false,
    "ExecuteTime": {
     "end_time": "2024-01-12T18:49:36.226867Z",
     "start_time": "2024-01-12T18:49:36.208882Z"
    }
   },
   "id": "dec60f14a793a395"
  },
  {
   "cell_type": "code",
   "execution_count": 4,
   "outputs": [
    {
     "name": "stdout",
     "output_type": "stream",
     "text": [
      "<class 'pandas.core.frame.DataFrame'>\n",
      "RangeIndex: 3401 entries, 0 to 3400\n",
      "Data columns (total 6 columns):\n",
      " #   Column             Non-Null Count  Dtype  \n",
      "---  ------             --------------  -----  \n",
      " 0   movie              3401 non-null   object \n",
      " 1   production_budget  3401 non-null   float64\n",
      " 2   domestic_gross     3401 non-null   float64\n",
      " 3   worldwide_gross    3401 non-null   float64\n",
      " 4   mpaa_rating        3264 non-null   object \n",
      " 5   genre              3401 non-null   object \n",
      "dtypes: float64(3), object(3)\n",
      "memory usage: 159.6+ KB\n"
     ]
    }
   ],
   "source": [
    "movies.info()"
   ],
   "metadata": {
    "collapsed": false,
    "ExecuteTime": {
     "end_time": "2024-01-12T18:49:36.256091Z",
     "start_time": "2024-01-12T18:49:36.229718Z"
    }
   },
   "id": "3c07f518824a30df"
  },
  {
   "cell_type": "code",
   "execution_count": 5,
   "outputs": [
    {
     "data": {
      "text/plain": "       production_budget  domestic_gross  worldwide_gross\ncount       3.401000e+03    3.401000e+03     3.401000e+03\nmean        3.328474e+07    4.542179e+07     9.411512e+07\nstd         3.489239e+07    5.882566e+07     1.409182e+08\nmin         2.500000e+05    0.000000e+00     0.000000e+00\n25%         9.000000e+06    6.118683e+06     1.061881e+07\n50%         2.000000e+07    2.553382e+07     4.015902e+07\n75%         4.500000e+07    6.032379e+07     1.176152e+08\nmax         1.750000e+08    4.745447e+08     1.304866e+09",
      "text/html": "<div>\n<style scoped>\n    .dataframe tbody tr th:only-of-type {\n        vertical-align: middle;\n    }\n\n    .dataframe tbody tr th {\n        vertical-align: top;\n    }\n\n    .dataframe thead th {\n        text-align: right;\n    }\n</style>\n<table border=\"1\" class=\"dataframe\">\n  <thead>\n    <tr style=\"text-align: right;\">\n      <th></th>\n      <th>production_budget</th>\n      <th>domestic_gross</th>\n      <th>worldwide_gross</th>\n    </tr>\n  </thead>\n  <tbody>\n    <tr>\n      <th>count</th>\n      <td>3.401000e+03</td>\n      <td>3.401000e+03</td>\n      <td>3.401000e+03</td>\n    </tr>\n    <tr>\n      <th>mean</th>\n      <td>3.328474e+07</td>\n      <td>4.542179e+07</td>\n      <td>9.411512e+07</td>\n    </tr>\n    <tr>\n      <th>std</th>\n      <td>3.489239e+07</td>\n      <td>5.882566e+07</td>\n      <td>1.409182e+08</td>\n    </tr>\n    <tr>\n      <th>min</th>\n      <td>2.500000e+05</td>\n      <td>0.000000e+00</td>\n      <td>0.000000e+00</td>\n    </tr>\n    <tr>\n      <th>25%</th>\n      <td>9.000000e+06</td>\n      <td>6.118683e+06</td>\n      <td>1.061881e+07</td>\n    </tr>\n    <tr>\n      <th>50%</th>\n      <td>2.000000e+07</td>\n      <td>2.553382e+07</td>\n      <td>4.015902e+07</td>\n    </tr>\n    <tr>\n      <th>75%</th>\n      <td>4.500000e+07</td>\n      <td>6.032379e+07</td>\n      <td>1.176152e+08</td>\n    </tr>\n    <tr>\n      <th>max</th>\n      <td>1.750000e+08</td>\n      <td>4.745447e+08</td>\n      <td>1.304866e+09</td>\n    </tr>\n  </tbody>\n</table>\n</div>"
     },
     "execution_count": 5,
     "metadata": {},
     "output_type": "execute_result"
    }
   ],
   "source": [
    "# summary statistics\n",
    "movies.describe()"
   ],
   "metadata": {
    "collapsed": false,
    "ExecuteTime": {
     "end_time": "2024-01-12T18:49:36.300633Z",
     "start_time": "2024-01-12T18:49:36.237202Z"
    }
   },
   "id": "f9decfbf1697602b"
  },
  {
   "cell_type": "code",
   "execution_count": 6,
   "outputs": [
    {
     "data": {
      "text/plain": "                 movie  production_budget  domestic_gross  worldwide_gross  \\\ncount             3401       3.401000e+03    3.401000e+03     3.401000e+03   \nunique            3400                NaN             NaN              NaN   \ntop     Tau ming chong                NaN             NaN              NaN   \nfreq                 2                NaN             NaN              NaN   \nmean               NaN       3.328474e+07    4.542179e+07     9.411512e+07   \nstd                NaN       3.489239e+07    5.882566e+07     1.409182e+08   \nmin                NaN       2.500000e+05    0.000000e+00     0.000000e+00   \n25%                NaN       9.000000e+06    6.118683e+06     1.061881e+07   \n50%                NaN       2.000000e+07    2.553382e+07     4.015902e+07   \n75%                NaN       4.500000e+07    6.032379e+07     1.176152e+08   \nmax                NaN       1.750000e+08    4.745447e+08     1.304866e+09   \n\n       mpaa_rating  genre  \ncount         3264   3401  \nunique           4      5  \ntop              R  Drama  \nfreq          1514   1236  \nmean           NaN    NaN  \nstd            NaN    NaN  \nmin            NaN    NaN  \n25%            NaN    NaN  \n50%            NaN    NaN  \n75%            NaN    NaN  \nmax            NaN    NaN  ",
      "text/html": "<div>\n<style scoped>\n    .dataframe tbody tr th:only-of-type {\n        vertical-align: middle;\n    }\n\n    .dataframe tbody tr th {\n        vertical-align: top;\n    }\n\n    .dataframe thead th {\n        text-align: right;\n    }\n</style>\n<table border=\"1\" class=\"dataframe\">\n  <thead>\n    <tr style=\"text-align: right;\">\n      <th></th>\n      <th>movie</th>\n      <th>production_budget</th>\n      <th>domestic_gross</th>\n      <th>worldwide_gross</th>\n      <th>mpaa_rating</th>\n      <th>genre</th>\n    </tr>\n  </thead>\n  <tbody>\n    <tr>\n      <th>count</th>\n      <td>3401</td>\n      <td>3.401000e+03</td>\n      <td>3.401000e+03</td>\n      <td>3.401000e+03</td>\n      <td>3264</td>\n      <td>3401</td>\n    </tr>\n    <tr>\n      <th>unique</th>\n      <td>3400</td>\n      <td>NaN</td>\n      <td>NaN</td>\n      <td>NaN</td>\n      <td>4</td>\n      <td>5</td>\n    </tr>\n    <tr>\n      <th>top</th>\n      <td>Tau ming chong</td>\n      <td>NaN</td>\n      <td>NaN</td>\n      <td>NaN</td>\n      <td>R</td>\n      <td>Drama</td>\n    </tr>\n    <tr>\n      <th>freq</th>\n      <td>2</td>\n      <td>NaN</td>\n      <td>NaN</td>\n      <td>NaN</td>\n      <td>1514</td>\n      <td>1236</td>\n    </tr>\n    <tr>\n      <th>mean</th>\n      <td>NaN</td>\n      <td>3.328474e+07</td>\n      <td>4.542179e+07</td>\n      <td>9.411512e+07</td>\n      <td>NaN</td>\n      <td>NaN</td>\n    </tr>\n    <tr>\n      <th>std</th>\n      <td>NaN</td>\n      <td>3.489239e+07</td>\n      <td>5.882566e+07</td>\n      <td>1.409182e+08</td>\n      <td>NaN</td>\n      <td>NaN</td>\n    </tr>\n    <tr>\n      <th>min</th>\n      <td>NaN</td>\n      <td>2.500000e+05</td>\n      <td>0.000000e+00</td>\n      <td>0.000000e+00</td>\n      <td>NaN</td>\n      <td>NaN</td>\n    </tr>\n    <tr>\n      <th>25%</th>\n      <td>NaN</td>\n      <td>9.000000e+06</td>\n      <td>6.118683e+06</td>\n      <td>1.061881e+07</td>\n      <td>NaN</td>\n      <td>NaN</td>\n    </tr>\n    <tr>\n      <th>50%</th>\n      <td>NaN</td>\n      <td>2.000000e+07</td>\n      <td>2.553382e+07</td>\n      <td>4.015902e+07</td>\n      <td>NaN</td>\n      <td>NaN</td>\n    </tr>\n    <tr>\n      <th>75%</th>\n      <td>NaN</td>\n      <td>4.500000e+07</td>\n      <td>6.032379e+07</td>\n      <td>1.176152e+08</td>\n      <td>NaN</td>\n      <td>NaN</td>\n    </tr>\n    <tr>\n      <th>max</th>\n      <td>NaN</td>\n      <td>1.750000e+08</td>\n      <td>4.745447e+08</td>\n      <td>1.304866e+09</td>\n      <td>NaN</td>\n      <td>NaN</td>\n    </tr>\n  </tbody>\n</table>\n</div>"
     },
     "execution_count": 6,
     "metadata": {},
     "output_type": "execute_result"
    }
   ],
   "source": [
    "# summary statistics for all the columns\n",
    "movies.describe(include='all')"
   ],
   "metadata": {
    "collapsed": false,
    "ExecuteTime": {
     "end_time": "2024-01-12T18:49:36.303197Z",
     "start_time": "2024-01-12T18:49:36.252991Z"
    }
   },
   "id": "59e173faebbbef4d"
  },
  {
   "cell_type": "code",
   "execution_count": 7,
   "outputs": [
    {
     "name": "stdout",
     "output_type": "stream",
     "text": [
      "33284743.23640106\n",
      "33284743.23640106\n"
     ]
    }
   ],
   "source": [
    "# find the mean production_budget for all movies and save it to a variable called mean_budget\n",
    "print(np.mean(movies.production_budget))    # applying np.mean()\n",
    "mean_budget = movies.production_budget.mean()\n",
    "print(mean_budget)"
   ],
   "metadata": {
    "collapsed": false,
    "ExecuteTime": {
     "end_time": "2024-01-12T18:49:36.354817Z",
     "start_time": "2024-01-12T18:49:36.276999Z"
    }
   },
   "id": "db28cc05fb20b8c2"
  },
  {
   "cell_type": "code",
   "execution_count": 8,
   "outputs": [
    {
     "name": "stdout",
     "output_type": "stream",
     "text": [
      "20000000.0\n"
     ]
    }
   ],
   "source": [
    "# Save the median budget to a variable called med_budget\n",
    "med_budget = movies.production_budget.median()\n",
    "print(med_budget)"
   ],
   "metadata": {
    "collapsed": false,
    "ExecuteTime": {
     "end_time": "2024-01-12T18:49:36.355486Z",
     "start_time": "2024-01-12T18:49:36.284053Z"
    }
   },
   "id": "b27b1debc5a4efd1"
  },
  {
   "cell_type": "code",
   "execution_count": 9,
   "outputs": [
    {
     "name": "stdout",
     "output_type": "stream",
     "text": [
      "0    20000000.0\n",
      "Name: production_budget, dtype: float64\n"
     ]
    }
   ],
   "source": [
    "# Save the mode to a variable called mode_budget\n",
    "mode_budget = movies.production_budget.mode()\n",
    "print(mode_budget)\n"
   ],
   "metadata": {
    "collapsed": false,
    "ExecuteTime": {
     "end_time": "2024-01-12T18:49:36.355713Z",
     "start_time": "2024-01-12T18:49:36.293895Z"
    }
   },
   "id": "7a89697e72b7e402"
  },
  {
   "cell_type": "code",
   "execution_count": 10,
   "outputs": [
    {
     "name": "stdout",
     "output_type": "stream",
     "text": [
      "23949546.79078883\n"
     ]
    }
   ],
   "source": [
    "# Find the mean of the budget after removing 20% of the lowest and highest data points. Save the trimmed mean to a variable called trmean_budget\n",
    "from scipy.stats import trim_mean\n",
    "trmean_budget = trim_mean(movies.production_budget, proportiontocut=0.2)    # trim extreme 20%\n",
    "print(trmean_budget)"
   ],
   "metadata": {
    "collapsed": false,
    "ExecuteTime": {
     "end_time": "2024-01-12T18:49:36.357943Z",
     "start_time": "2024-01-12T18:49:36.301446Z"
    }
   },
   "id": "b34df7ad00cf3cb5"
  },
  {
   "cell_type": "markdown",
   "source": [],
   "metadata": {
    "collapsed": false
   },
   "id": "248bd5b27789f16"
  },
  {
   "cell_type": "code",
   "execution_count": 11,
   "outputs": [
    {
     "name": "stdout",
     "output_type": "stream",
     "text": [
      "174750000.0\n"
     ]
    }
   ],
   "source": [
    "# find the range for production_budget and save it to a variable called range_budget\n",
    "range_budget = movies.production_budget.max() - movies.production_budget.min()\n",
    "print(range_budget)"
   ],
   "metadata": {
    "collapsed": false,
    "ExecuteTime": {
     "end_time": "2024-01-12T18:49:36.358591Z",
     "start_time": "2024-01-12T18:49:36.309115Z"
    }
   },
   "id": "a091a1e8e1c076cc"
  },
  {
   "cell_type": "code",
   "execution_count": 12,
   "outputs": [
    {
     "name": "stdout",
     "output_type": "stream",
     "text": [
      "36000000.0\n"
     ]
    }
   ],
   "source": [
    "# Save the interquartile range for budget to a variable called iqr_budget\n",
    "iqr_budget = movies.production_budget.quantile(0.75) - movies.production_budget.quantile(0.25)\n",
    "print(iqr_budget)"
   ],
   "metadata": {
    "collapsed": false,
    "ExecuteTime": {
     "end_time": "2024-01-12T18:49:36.419582Z",
     "start_time": "2024-01-12T18:49:36.317308Z"
    }
   },
   "id": "d0ac1cdd10d7e76f"
  },
  {
   "cell_type": "code",
   "execution_count": 13,
   "outputs": [
    {
     "name": "stdout",
     "output_type": "stream",
     "text": [
      "1217120944390785.2\n",
      "1217478921139135.5\n"
     ]
    }
   ],
   "source": [
    "# Save the variance to a variable called var_budget\n",
    "print(np.var(movies.production_budget))    # applying np.var()\n",
    "var_budget = movies.production_budget.var()\n",
    "print(var_budget)"
   ],
   "metadata": {
    "collapsed": false,
    "ExecuteTime": {
     "end_time": "2024-01-12T18:49:36.442122Z",
     "start_time": "2024-01-12T18:49:36.325197Z"
    }
   },
   "id": "1b2a144bdd29892b"
  },
  {
   "cell_type": "code",
   "execution_count": 14,
   "outputs": [
    {
     "name": "stdout",
     "output_type": "stream",
     "text": [
      "34887260.4884761\n",
      "34892390.59077402\n"
     ]
    }
   ],
   "source": [
    "# Save the standard deviation to a variable called std_budget\n",
    "print(np.std(movies.production_budget))    # applying np.std()\n",
    "std_budget = movies.production_budget.std()\n",
    "print(std_budget)"
   ],
   "metadata": {
    "collapsed": false,
    "ExecuteTime": {
     "end_time": "2024-01-12T18:49:36.442963Z",
     "start_time": "2024-01-12T18:49:36.328921Z"
    }
   },
   "id": "6ef10ec786018720"
  },
  {
   "cell_type": "code",
   "execution_count": 15,
   "outputs": [],
   "source": [
    "# Save the mean absolute deviation to a variable called mad_budget\n",
    "# mad_budget = movies.production_budget.mad()\n",
    "# print(mad_budget)"
   ],
   "metadata": {
    "collapsed": false,
    "ExecuteTime": {
     "end_time": "2024-01-12T18:49:36.443424Z",
     "start_time": "2024-01-12T18:49:36.336187Z"
    }
   },
   "id": "a50de0871ff7f9f2"
  },
  {
   "cell_type": "code",
   "execution_count": 16,
   "outputs": [
    {
     "data": {
      "text/plain": "22239033.277584027"
     },
     "execution_count": 16,
     "metadata": {},
     "output_type": "execute_result"
    }
   ],
   "source": [
    "# find median absolute deviation\n",
    "# from scipy import stats\n",
    "mad_budget = stats.median_abs_deviation(movies.production_budget, scale='normal')\n",
    "mad_budget"
   ],
   "metadata": {
    "collapsed": false,
    "ExecuteTime": {
     "end_time": "2024-01-12T18:49:36.586690Z",
     "start_time": "2024-01-12T18:49:36.342670Z"
    }
   },
   "id": "6d1300f07a2abf2c"
  },
  {
   "cell_type": "code",
   "execution_count": 17,
   "outputs": [
    {
     "data": {
      "text/plain": "<Figure size 640x480 with 1 Axes>",
      "image/png": "[encoded data removed]"
     },
     "metadata": {},
     "output_type": "display_data"
    },
    {
     "data": {
      "text/plain": "<Figure size 640x480 with 0 Axes>"
     },
     "metadata": {},
     "output_type": "display_data"
    }
   ],
   "source": [
    "# Using the movies DataFrame, create a boxplot for production_budget using the boxplot() function from seaborn. Don’t forget to display the plot using plt.show() and close the plot using plt.close()\n",
    "# Create a boxplot for movie budget \n",
    "sns.boxplot(x='production_budget', data=movies)\n",
    "plt.show()\n",
    "plt.clf()\n"
   ],
   "metadata": {
    "collapsed": false,
    "ExecuteTime": {
     "end_time": "2024-01-12T18:49:36.734624Z",
     "start_time": "2024-01-12T18:49:36.417662Z"
    }
   },
   "id": "86cb85b6142ee8aa"
  },
  {
   "cell_type": "code",
   "execution_count": 18,
   "outputs": [
    {
     "name": "stderr",
     "output_type": "stream",
     "text": [
      "/Users/matth/anaconda3/lib/python3.11/site-packages/seaborn/_oldcore.py:1119: FutureWarning: use_inf_as_na option is deprecated and will be removed in a future version. Convert inf values to NaN before operating instead.\n",
      "  with pd.option_context('mode.use_inf_as_na', True):\n"
     ]
    },
    {
     "data": {
      "text/plain": "<Figure size 640x480 with 1 Axes>",
      "image/png": "[encoded data removed]"
     },
     "metadata": {},
     "output_type": "display_data"
    }
   ],
   "source": [
    "# Create a histogram for production_budget using the histplot() function from seaborn.\n",
    "# Create a histogram for movie budget\n",
    "sns.histplot(x='production_budget', data=movies)\n",
    "plt.show()\n",
    "plt.close()\n",
    "\n",
    "# From the plots, what do you notice about the distribution of movie budgets?"
   ],
   "metadata": {
    "collapsed": false,
    "ExecuteTime": {
     "end_time": "2024-01-12T18:49:36.976191Z",
     "start_time": "2024-01-12T18:49:36.727309Z"
    }
   },
   "id": "cc8068da998d7ee0"
  },
  {
   "cell_type": "code",
   "execution_count": 19,
   "outputs": [
    {
     "name": "stdout",
     "output_type": "stream",
     "text": [
      "genre\n",
      "Drama        1236\n",
      "Comedy        813\n",
      "Action        573\n",
      "Adventure     481\n",
      "Horror        298\n",
      "Name: count, dtype: int64\n"
     ]
    }
   ],
   "source": [
    "# Using the movies DataFrame, find the number of movies in each genre and save the counts to a variable called genre_counts\n",
    "genre_counts = movies.genre.value_counts()\n",
    "print(genre_counts)"
   ],
   "metadata": {
    "collapsed": false,
    "ExecuteTime": {
     "end_time": "2024-01-12T18:49:36.998906Z",
     "start_time": "2024-01-12T18:49:36.973950Z"
    }
   },
   "id": "8c7f69ee5df8b9a3"
  },
  {
   "cell_type": "code",
   "execution_count": 20,
   "outputs": [
    {
     "name": "stdout",
     "output_type": "stream",
     "text": [
      "genre\n",
      "Drama        0.363423\n",
      "Comedy       0.239047\n",
      "Action       0.168480\n",
      "Adventure    0.141429\n",
      "Horror       0.087621\n",
      "Name: count, dtype: float64\n"
     ]
    }
   ],
   "source": [
    "# Using the movies DataFrame, find the proportion of movies in each genre and save them to a variable called genre_props\n",
    "genre_props = movies.genre.value_counts() / len(movies.genre)\n",
    "print(genre_props)"
   ],
   "metadata": {
    "collapsed": false,
    "ExecuteTime": {
     "end_time": "2024-01-12T18:49:37.000098Z",
     "start_time": "2024-01-12T18:49:36.979658Z"
    }
   },
   "id": "a98e822dd8614ecc"
  },
  {
   "cell_type": "code",
   "execution_count": 21,
   "outputs": [
    {
     "data": {
      "text/plain": "<Figure size 640x480 with 1 Axes>",
      "image/png": "[encoded data removed]"
     },
     "metadata": {},
     "output_type": "display_data"
    },
    {
     "data": {
      "text/plain": "<Figure size 640x480 with 0 Axes>"
     },
     "metadata": {},
     "output_type": "display_data"
    }
   ],
   "source": [
    "# create a bar chart for genre using the countplot() function from seaborn. Don’t forget to display the plot using plt.show() and close the plot using plt.close()\n",
    "sns.countplot(x='genre', data=movies)\n",
    "plt.show()\n",
    "plt.clf()"
   ],
   "metadata": {
    "collapsed": false,
    "ExecuteTime": {
     "end_time": "2024-01-12T18:49:37.123183Z",
     "start_time": "2024-01-12T18:49:36.988310Z"
    }
   },
   "id": "94aa060027e474f0"
  },
  {
   "cell_type": "code",
   "execution_count": 22,
   "outputs": [
    {
     "data": {
      "text/plain": "<Figure size 640x480 with 1 Axes>",
      "image/png": "[encoded data removed]"
     },
     "metadata": {},
     "output_type": "display_data"
    }
   ],
   "source": [
    "# Create a pie chart for genre using the .pie() method from pandas\n",
    "movies.genre.value_counts().plot.pie()\n",
    "plt.show()\n",
    "plt.close()"
   ],
   "metadata": {
    "collapsed": false,
    "ExecuteTime": {
     "end_time": "2024-01-12T18:49:37.209737Z",
     "start_time": "2024-01-12T18:49:37.119979Z"
    }
   },
   "id": "31b46cb199cc78ef"
  },
  {
   "cell_type": "code",
   "execution_count": 22,
   "outputs": [],
   "source": [],
   "metadata": {
    "collapsed": false,
    "ExecuteTime": {
     "end_time": "2024-01-12T18:49:37.209944Z",
     "start_time": "2024-01-12T18:49:37.206280Z"
    }
   },
   "id": "cae59088210e7410"
  }
 ],
 "metadata": {
  "kernelspec": {
   "display_name": "Python 3",
   "language": "python",
   "name": "python3"
  },
  "language_info": {
   "codemirror_mode": {
    "name": "ipython",
    "version": 2
   },
   "file_extension": ".py",
   "mimetype": "text/x-python",
   "name": "python",
   "nbconvert_exporter": "python",
   "pygments_lexer": "ipython2",
   "version": "2.7.6"
  }
 },
 "nbformat": 4,
 "nbformat_minor": 5
}
